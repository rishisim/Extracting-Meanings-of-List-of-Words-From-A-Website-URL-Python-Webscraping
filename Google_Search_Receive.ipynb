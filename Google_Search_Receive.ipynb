{
 "cells": [
  {
   "cell_type": "code",
   "execution_count": 164,
   "id": "dadb87f7-3dca-4e13-abc5-7bcfccaa929b",
   "metadata": {},
   "outputs": [],
   "source": [
    "# Imports the necessary modules for the program.\n",
    "import pandas\n",
    "from bs4 import BeautifulSoup\n",
    "import csv\n",
    "import requests\n",
    "import urllib"
   ]
  },
  {
   "cell_type": "code",
   "execution_count": 173,
   "id": "6881ccb9-1f93-4607-9e30-7e2cd48478f1",
   "metadata": {},
   "outputs": [],
   "source": [
    "# Creates a function that searches the word the user wants a definition for.\n",
    "\n",
    "def ggl_search(word):\n",
    "\n",
    "    #   Using the urlib module, a url is created based on the word parameter inputted into the function.\n",
    "    search_url = \"https://www.dictionary.com/browse/{}\".format(urllib.parse.quote_plus(str(word), safe='/'))\n",
    "\n",
    "    #   Reads the site from the url.\n",
    "    google_request = requests.get(search_url)\n",
    "\n",
    "    #   Parses the html.\n",
    "    soup = BeautifulSoup(google_request.text, \"html.parser\")    \n",
    "\n",
    "    #   Extracts the definition of the word.\n",
    "    results = soup.find('div', attrs = {'value':'1'}).text\n",
    "    return results"
   ]
  },
  {
   "cell_type": "code",
   "execution_count": 177,
   "id": "c95b0e48-4355-4aaf-8b95-3abbabef2f52",
   "metadata": {},
   "outputs": [
    {
     "data": {
      "text/plain": [
       "'bell-ringing a method rung on twelve bells'"
      ]
     },
     "execution_count": 177,
     "metadata": {},
     "output_type": "execute_result"
    }
   ],
   "source": [
    "# Example with only one word.\n",
    "ggl_search('maximus')\n"
   ]
  },
  {
   "cell_type": "code",
   "execution_count": 170,
   "id": "658ee60c-c43b-436b-a87e-55cf9ebfd7a0",
   "metadata": {},
   "outputs": [
    {
     "name": "stdout",
     "output_type": "stream",
     "text": [
      "['Dog', 'Cat', 'Mouse']\n"
     ]
    }
   ],
   "source": [
    "# Reads the csvfile. Specifically the column named \"Animals\"\n",
    "csvdata = pandas.read_csv('animals.csv', usecols = [\"Animals\"])\n",
    "\n",
    "# Converts the csv data into a list for the ggl_search() function.\n",
    "csvlist = csvdata.Animals.tolist()\n",
    "print(csvlist)"
   ]
  },
  {
   "cell_type": "code",
   "execution_count": 175,
   "id": "c36f5714-a46b-4d01-b5a5-d8b003bd0138",
   "metadata": {},
   "outputs": [
    {
     "data": {
      "text/html": [
       "<style type=\"text/css\">\n",
       "#T_012b8 th {\n",
       "  text-align: left;\n",
       "}\n",
       "#T_012b8_row0_col0, #T_012b8_row0_col1, #T_012b8_row1_col0, #T_012b8_row1_col1, #T_012b8_row2_col0, #T_012b8_row2_col1 {\n",
       "  text-align: left;\n",
       "}\n",
       "</style>\n",
       "<table id=\"T_012b8\">\n",
       "  <thead>\n",
       "    <tr>\n",
       "      <th class=\"blank level0\" >&nbsp;</th>\n",
       "      <th id=\"T_012b8_level0_col0\" class=\"col_heading level0 col0\" >Word</th>\n",
       "      <th id=\"T_012b8_level0_col1\" class=\"col_heading level0 col1\" >Definition</th>\n",
       "    </tr>\n",
       "  </thead>\n",
       "  <tbody>\n",
       "    <tr>\n",
       "      <th id=\"T_012b8_level0_row0\" class=\"row_heading level0 row0\" >0</th>\n",
       "      <td id=\"T_012b8_row0_col0\" class=\"data row0 col0\" >Dog</td>\n",
       "      <td id=\"T_012b8_row0_col1\" class=\"data row0 col1\" >a domesticated canid, Canis familiaris, bred in many varieties.</td>\n",
       "    </tr>\n",
       "    <tr>\n",
       "      <th id=\"T_012b8_level0_row1\" class=\"row_heading level0 row1\" >1</th>\n",
       "      <td id=\"T_012b8_row1_col0\" class=\"data row1 col0\" >Cat</td>\n",
       "      <td id=\"T_012b8_row1_col1\" class=\"data row1 col1\" >a small domesticated carnivore, Felis domestica or F. catus, bred in a number of varieties.</td>\n",
       "    </tr>\n",
       "    <tr>\n",
       "      <th id=\"T_012b8_level0_row2\" class=\"row_heading level0 row2\" >2</th>\n",
       "      <td id=\"T_012b8_row2_col0\" class=\"data row2 col0\" >Mouse</td>\n",
       "      <td id=\"T_012b8_row2_col1\" class=\"data row2 col1\" >any of numerous small Old World rodents of the family Muridae, especially of the genus Mus, introduced widely in other parts of the world.</td>\n",
       "    </tr>\n",
       "  </tbody>\n",
       "</table>\n"
      ],
      "text/plain": [
       "<pandas.io.formats.style.Styler at 0x14cdec50160>"
      ]
     },
     "execution_count": 175,
     "metadata": {},
     "output_type": "execute_result"
    }
   ],
   "source": [
    "deflist = []\n",
    "\n",
    "# For each word in the csvlist, the ggl_search() function is called and the definitions are combined into the deflist.\n",
    "for item in csvlist:\n",
    "    deflist.append(ggl_search(item))\n",
    "\n",
    "# Creates dataframes for the Words and the Definitions.\n",
    "worddf = pandas.DataFrame(csvlist, columns = ['Word'])\n",
    "defdf = pandas.DataFrame(deflist, columns = ['Definition'])\n",
    "\n",
    "# Concatenates the two dataframes into one.\n",
    "result = pd.concat([worddf, defdf], axis=1, join='inner')\n",
    "\n",
    "# Applies formatting to the dataframe to align the text of the headers and rows to the left.\n",
    "result.style.set_properties(**{'text-align': 'left'}).set_table_styles([ dict(selector='th', props=[('text-align', 'left')] ) ])"
   ]
  }
 ],
 "metadata": {
  "kernelspec": {
   "display_name": "Python 3 (ipykernel)",
   "language": "python",
   "name": "python3"
  },
  "language_info": {
   "codemirror_mode": {
    "name": "ipython",
    "version": 3
   },
   "file_extension": ".py",
   "mimetype": "text/x-python",
   "name": "python",
   "nbconvert_exporter": "python",
   "pygments_lexer": "ipython3",
   "version": "3.9.7"
  }
 },
 "nbformat": 4,
 "nbformat_minor": 5
}
